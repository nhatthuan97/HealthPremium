{
 "cells": [
  {
   "cell_type": "markdown",
   "id": "2f3caa02",
   "metadata": {},
   "source": [
    "# Import Data and convert appropriate column to float"
   ]
  },
  {
   "cell_type": "code",
   "execution_count": 1,
   "id": "84140371",
   "metadata": {},
   "outputs": [],
   "source": [
    "import findspark\n",
    "findspark.init()\n",
    "findspark.find()\n",
    "\n",
    "from pyspark.sql import SparkSession\n",
    "\n",
    "spark = SparkSession.builder.appName('ThuanSession').getOrCreate()"
   ]
  },
  {
   "cell_type": "code",
   "execution_count": 2,
   "id": "807cb59a",
   "metadata": {},
   "outputs": [],
   "source": [
    "df= spark.read.option(\"header\",True).csv(\"insurance.csv\")"
   ]
  },
  {
   "cell_type": "code",
   "execution_count": 3,
   "id": "d5dce146",
   "metadata": {},
   "outputs": [
    {
     "name": "stdout",
     "output_type": "stream",
     "text": [
      "Row:  1338\n",
      "Cols: 7\n"
     ]
    }
   ],
   "source": [
    "print(\"Row: \", df.count())\n",
    "print(\"Cols:\", len(df.dtypes))"
   ]
  },
  {
   "cell_type": "code",
   "execution_count": 4,
   "id": "5fb217ea",
   "metadata": {},
   "outputs": [
    {
     "name": "stdout",
     "output_type": "stream",
     "text": [
      "+---+------+------+--------+------+---------+-----------+\n",
      "|age|   sex|   bmi|children|smoker|   region|    charges|\n",
      "+---+------+------+--------+------+---------+-----------+\n",
      "| 19|female|  27.9|       0|   yes|southwest|  16884.924|\n",
      "| 18|  male| 33.77|       1|    no|southeast|  1725.5523|\n",
      "| 28|  male|    33|       3|    no|southeast|   4449.462|\n",
      "| 33|  male|22.705|       0|    no|northwest|21984.47061|\n",
      "| 32|  male| 28.88|       0|    no|northwest|  3866.8552|\n",
      "| 31|female| 25.74|       0|    no|southeast|  3756.6216|\n",
      "| 46|female| 33.44|       1|    no|southeast|  8240.5896|\n",
      "| 37|female| 27.74|       3|    no|northwest|  7281.5056|\n",
      "| 37|  male| 29.83|       2|    no|northeast|  6406.4107|\n",
      "| 60|female| 25.84|       0|    no|northwest|28923.13692|\n",
      "| 25|  male| 26.22|       0|    no|northeast|  2721.3208|\n",
      "| 62|female| 26.29|       0|   yes|southeast| 27808.7251|\n",
      "| 23|  male|  34.4|       0|    no|southwest|   1826.843|\n",
      "| 56|female| 39.82|       0|    no|southeast| 11090.7178|\n",
      "| 27|  male| 42.13|       0|   yes|southeast| 39611.7577|\n",
      "| 19|  male|  24.6|       1|    no|southwest|   1837.237|\n",
      "| 52|female| 30.78|       1|    no|northeast| 10797.3362|\n",
      "| 23|  male|23.845|       0|    no|northeast| 2395.17155|\n",
      "| 56|  male|  40.3|       0|    no|southwest|  10602.385|\n",
      "| 30|  male|  35.3|       0|   yes|southwest|  36837.467|\n",
      "+---+------+------+--------+------+---------+-----------+\n",
      "only showing top 20 rows\n",
      "\n"
     ]
    }
   ],
   "source": [
    "df.show()"
   ]
  },
  {
   "cell_type": "code",
   "execution_count": 5,
   "id": "21c34d73",
   "metadata": {},
   "outputs": [
    {
     "name": "stdout",
     "output_type": "stream",
     "text": [
      "root\n",
      " |-- age: string (nullable = true)\n",
      " |-- sex: string (nullable = true)\n",
      " |-- bmi: string (nullable = true)\n",
      " |-- children: string (nullable = true)\n",
      " |-- smoker: string (nullable = true)\n",
      " |-- region: string (nullable = true)\n",
      " |-- charges: string (nullable = true)\n",
      "\n"
     ]
    }
   ],
   "source": [
    "df.printSchema()"
   ]
  },
  {
   "cell_type": "code",
   "execution_count": 6,
   "id": "cace496e",
   "metadata": {},
   "outputs": [],
   "source": [
    "df=df.withColumn('age',df['age'].cast(\"float\").alias('age'))\n",
    "df=df.withColumn('bmi',df['bmi'].cast(\"float\").alias('bmi'))\n",
    "df=df.withColumn('children',df['children'].cast(\"float\").alias('children'))\n",
    "df=df.withColumn('charges',df['charges'].cast(\"float\").alias('charges'))"
   ]
  },
  {
   "cell_type": "code",
   "execution_count": 7,
   "id": "55c92a57",
   "metadata": {},
   "outputs": [
    {
     "name": "stdout",
     "output_type": "stream",
     "text": [
      "root\n",
      " |-- age: float (nullable = true)\n",
      " |-- sex: string (nullable = true)\n",
      " |-- bmi: float (nullable = true)\n",
      " |-- children: float (nullable = true)\n",
      " |-- smoker: string (nullable = true)\n",
      " |-- region: string (nullable = true)\n",
      " |-- charges: float (nullable = true)\n",
      "\n"
     ]
    }
   ],
   "source": [
    "df.printSchema()"
   ]
  },
  {
   "cell_type": "markdown",
   "id": "28bf120e",
   "metadata": {},
   "source": [
    "# Data summary of numeric column"
   ]
  },
  {
   "cell_type": "code",
   "execution_count": 8,
   "id": "942a332f",
   "metadata": {
    "scrolled": true
   },
   "outputs": [
    {
     "name": "stdout",
     "output_type": "stream",
     "text": [
      "+-------+------------------+-----------------+-----------------+------------------+\n",
      "|summary|               age|              bmi|         children|           charges|\n",
      "+-------+------------------+-----------------+-----------------+------------------+\n",
      "|  count|              1338|             1338|             1338|              1338|\n",
      "|   mean| 39.20702541106129|30.66339685599722|  1.0949177877429|13270.422259640089|\n",
      "| stddev|14.049960379216147|6.098186944544972|1.205492739781914|12110.011235594102|\n",
      "|    min|              18.0|            15.96|              0.0|         1121.8739|\n",
      "|    max|              64.0|            53.13|              5.0|          63770.43|\n",
      "+-------+------------------+-----------------+-----------------+------------------+\n",
      "\n"
     ]
    }
   ],
   "source": [
    "df.describe(['age','bmi','children','charges']).show()"
   ]
  },
  {
   "cell_type": "code",
   "execution_count": 9,
   "id": "1de3d85f",
   "metadata": {
    "scrolled": true
   },
   "outputs": [
    {
     "name": "stdout",
     "output_type": "stream",
     "text": [
      "+----------+-----+\n",
      "|Sex_Smoker|count|\n",
      "+----------+-----+\n",
      "|   male no|  517|\n",
      "|  male yes|  159|\n",
      "|female yes|  115|\n",
      "| female no|  547|\n",
      "+----------+-----+\n",
      "\n"
     ]
    }
   ],
   "source": [
    "from pyspark.sql.functions import concat_ws,col\n",
    "dfPlot = df.groupBy([\"sex\",\"smoker\"]).count()\n",
    "dfPlot=dfPlot.select(concat_ws(' ',df.sex,df.smoker).alias(\"Sex_Smoker\"),\"count\")\n",
    "dfPlot.show()"
   ]
  },
  {
   "cell_type": "code",
   "execution_count": 10,
   "id": "70b8a8a5",
   "metadata": {},
   "outputs": [],
   "source": [
    "import matplotlib.pyplot as plt\n",
    "rows=dfPlot.toPandas()[\"Sex_Smoker\"].values.tolist()\n",
    "cols=dfPlot.toPandas()[\"count\"].values.tolist()"
   ]
  },
  {
   "cell_type": "code",
   "execution_count": 11,
   "id": "49d6e922",
   "metadata": {},
   "outputs": [
    {
     "data": {
      "text/plain": [
       "Text(0.5, 1.0, 'Distribution of Smoker in data set')"
      ]
     },
     "execution_count": 11,
     "metadata": {},
     "output_type": "execute_result"
    },
    {
     "data": {
      "image/png": "[encoded data removed]",
      "text/plain": [
       "<Figure size 640x480 with 1 Axes>"
      ]
     },
     "metadata": {},
     "output_type": "display_data"
    }
   ],
   "source": [
    "plt.bar(rows,cols)\n",
    "plt.title(\"Distribution of Smoker in data set\")"
   ]
  },
  {
   "cell_type": "markdown",
   "id": "fcfe407a",
   "metadata": {},
   "source": [
    "# Apply Label encoder to sex, smoker, region\n",
    "- In this case:\n",
    "    + Sex: male=0 female=1\n",
    "    + smokerLabel: yes=1, no=0\n",
    "- Region really should be one-hot encoded"
   ]
  },
  {
   "cell_type": "code",
   "execution_count": 12,
   "id": "17913ea8",
   "metadata": {},
   "outputs": [
    {
     "name": "stdout",
     "output_type": "stream",
     "text": [
      "+----+------+------+--------+------+---------+---------+--------+-----------+-----------+\n",
      "| age|   sex|   bmi|children|smoker|   region|  charges|sexLabel|smokerLabel|regionLabel|\n",
      "+----+------+------+--------+------+---------+---------+--------+-----------+-----------+\n",
      "|19.0|female|  27.9|     0.0|   yes|southwest|16884.924|     1.0|        1.0|        2.0|\n",
      "|18.0|  male| 33.77|     1.0|    no|southeast|1725.5522|     0.0|        0.0|        0.0|\n",
      "|28.0|  male|  33.0|     3.0|    no|southeast| 4449.462|     0.0|        0.0|        0.0|\n",
      "|33.0|  male|22.705|     0.0|    no|northwest| 21984.47|     0.0|        0.0|        1.0|\n",
      "|32.0|  male| 28.88|     0.0|    no|northwest|3866.8552|     0.0|        0.0|        1.0|\n",
      "|31.0|female| 25.74|     0.0|    no|southeast|3756.6216|     1.0|        0.0|        0.0|\n",
      "|46.0|female| 33.44|     1.0|    no|southeast|  8240.59|     1.0|        0.0|        0.0|\n",
      "|37.0|female| 27.74|     3.0|    no|northwest|7281.5054|     1.0|        0.0|        1.0|\n",
      "|37.0|  male| 29.83|     2.0|    no|northeast|6406.4106|     0.0|        0.0|        3.0|\n",
      "|60.0|female| 25.84|     0.0|    no|northwest|28923.137|     1.0|        0.0|        1.0|\n",
      "|25.0|  male| 26.22|     0.0|    no|northeast|2721.3208|     0.0|        0.0|        3.0|\n",
      "|62.0|female| 26.29|     0.0|   yes|southeast|27808.725|     1.0|        1.0|        0.0|\n",
      "|23.0|  male|  34.4|     0.0|    no|southwest| 1826.843|     0.0|        0.0|        2.0|\n",
      "|56.0|female| 39.82|     0.0|    no|southeast|11090.718|     1.0|        0.0|        0.0|\n",
      "|27.0|  male| 42.13|     0.0|   yes|southeast|39611.758|     0.0|        1.0|        0.0|\n",
      "|19.0|  male|  24.6|     1.0|    no|southwest| 1837.237|     0.0|        0.0|        2.0|\n",
      "|52.0|female| 30.78|     1.0|    no|northeast|10797.336|     1.0|        0.0|        3.0|\n",
      "|23.0|  male|23.845|     0.0|    no|northeast|2395.1716|     0.0|        0.0|        3.0|\n",
      "|56.0|  male|  40.3|     0.0|    no|southwest|10602.385|     0.0|        0.0|        2.0|\n",
      "|30.0|  male|  35.3|     0.0|   yes|southwest| 36837.47|     0.0|        1.0|        2.0|\n",
      "+----+------+------+--------+------+---------+---------+--------+-----------+-----------+\n",
      "only showing top 20 rows\n",
      "\n"
     ]
    }
   ],
   "source": [
    "from pyspark.ml.feature import StringIndexer\n",
    "\n",
    "for col in ['sex','smoker','region']:\n",
    "    Label_encoder=StringIndexer(inputCol=col,outputCol=col+\"Label\")\n",
    "    df=Label_encoder.fit(df).transform(df)\n",
    "\n",
    "df.show()"
   ]
  },
  {
   "cell_type": "code",
   "execution_count": 13,
   "id": "790fb952",
   "metadata": {},
   "outputs": [
    {
     "data": {
      "text/plain": [
       "[Row(regionLabel=0.0),\n",
       " Row(regionLabel=1.0),\n",
       " Row(regionLabel=3.0),\n",
       " Row(regionLabel=2.0)]"
      ]
     },
     "execution_count": 13,
     "metadata": {},
     "output_type": "execute_result"
    }
   ],
   "source": [
    "df.select('regionLabel').distinct().collect()"
   ]
  },
  {
   "cell_type": "code",
   "execution_count": 14,
   "id": "4e344638",
   "metadata": {},
   "outputs": [
    {
     "data": {
      "text/plain": [
       "[Row(region='northwest'),\n",
       " Row(region='southeast'),\n",
       " Row(region='northeast'),\n",
       " Row(region='southwest')]"
      ]
     },
     "execution_count": 14,
     "metadata": {},
     "output_type": "execute_result"
    }
   ],
   "source": [
    "df.select('region').distinct().collect()"
   ]
  },
  {
   "cell_type": "markdown",
   "id": "1d38945f",
   "metadata": {},
   "source": [
    "# Create feature columns to get ready for linear regression:"
   ]
  },
  {
   "cell_type": "code",
   "execution_count": 15,
   "id": "8ad80df2",
   "metadata": {},
   "outputs": [],
   "source": [
    "from pyspark.ml.regression import LinearRegression\n",
    "from pyspark.ml.linalg import Vectors\n",
    "from pyspark.ml.feature import VectorAssembler\n",
    "\n",
    "Assembler = VectorAssembler(inputCols=['age','sexLabel','smokerLabel','regionLabel',\n",
    "                                       'bmi','children'],\n",
    "                           outputCol='features')\n",
    "df=Assembler.transform(df)"
   ]
  },
  {
   "cell_type": "code",
   "execution_count": 16,
   "id": "ba45bf8a",
   "metadata": {},
   "outputs": [
    {
     "name": "stdout",
     "output_type": "stream",
     "text": [
      "+----+------+------+--------+------+---------+---------+--------+-----------+-----------+--------------------+\n",
      "| age|   sex|   bmi|children|smoker|   region|  charges|sexLabel|smokerLabel|regionLabel|            features|\n",
      "+----+------+------+--------+------+---------+---------+--------+-----------+-----------+--------------------+\n",
      "|19.0|female|  27.9|     0.0|   yes|southwest|16884.924|     1.0|        1.0|        2.0|[19.0,1.0,1.0,2.0...|\n",
      "|18.0|  male| 33.77|     1.0|    no|southeast|1725.5522|     0.0|        0.0|        0.0|[18.0,0.0,0.0,0.0...|\n",
      "|28.0|  male|  33.0|     3.0|    no|southeast| 4449.462|     0.0|        0.0|        0.0|[28.0,0.0,0.0,0.0...|\n",
      "|33.0|  male|22.705|     0.0|    no|northwest| 21984.47|     0.0|        0.0|        1.0|[33.0,0.0,0.0,1.0...|\n",
      "|32.0|  male| 28.88|     0.0|    no|northwest|3866.8552|     0.0|        0.0|        1.0|[32.0,0.0,0.0,1.0...|\n",
      "|31.0|female| 25.74|     0.0|    no|southeast|3756.6216|     1.0|        0.0|        0.0|[31.0,1.0,0.0,0.0...|\n",
      "|46.0|female| 33.44|     1.0|    no|southeast|  8240.59|     1.0|        0.0|        0.0|[46.0,1.0,0.0,0.0...|\n",
      "|37.0|female| 27.74|     3.0|    no|northwest|7281.5054|     1.0|        0.0|        1.0|[37.0,1.0,0.0,1.0...|\n",
      "|37.0|  male| 29.83|     2.0|    no|northeast|6406.4106|     0.0|        0.0|        3.0|[37.0,0.0,0.0,3.0...|\n",
      "|60.0|female| 25.84|     0.0|    no|northwest|28923.137|     1.0|        0.0|        1.0|[60.0,1.0,0.0,1.0...|\n",
      "|25.0|  male| 26.22|     0.0|    no|northeast|2721.3208|     0.0|        0.0|        3.0|[25.0,0.0,0.0,3.0...|\n",
      "|62.0|female| 26.29|     0.0|   yes|southeast|27808.725|     1.0|        1.0|        0.0|[62.0,1.0,1.0,0.0...|\n",
      "|23.0|  male|  34.4|     0.0|    no|southwest| 1826.843|     0.0|        0.0|        2.0|[23.0,0.0,0.0,2.0...|\n",
      "|56.0|female| 39.82|     0.0|    no|southeast|11090.718|     1.0|        0.0|        0.0|[56.0,1.0,0.0,0.0...|\n",
      "|27.0|  male| 42.13|     0.0|   yes|southeast|39611.758|     0.0|        1.0|        0.0|[27.0,0.0,1.0,0.0...|\n",
      "|19.0|  male|  24.6|     1.0|    no|southwest| 1837.237|     0.0|        0.0|        2.0|[19.0,0.0,0.0,2.0...|\n",
      "|52.0|female| 30.78|     1.0|    no|northeast|10797.336|     1.0|        0.0|        3.0|[52.0,1.0,0.0,3.0...|\n",
      "|23.0|  male|23.845|     0.0|    no|northeast|2395.1716|     0.0|        0.0|        3.0|[23.0,0.0,0.0,3.0...|\n",
      "|56.0|  male|  40.3|     0.0|    no|southwest|10602.385|     0.0|        0.0|        2.0|[56.0,0.0,0.0,2.0...|\n",
      "|30.0|  male|  35.3|     0.0|   yes|southwest| 36837.47|     0.0|        1.0|        2.0|[30.0,0.0,1.0,2.0...|\n",
      "+----+------+------+--------+------+---------+---------+--------+-----------+-----------+--------------------+\n",
      "only showing top 20 rows\n",
      "\n"
     ]
    }
   ],
   "source": [
    "df.show()"
   ]
  },
  {
   "cell_type": "code",
   "execution_count": 17,
   "id": "1cdbd70a",
   "metadata": {},
   "outputs": [],
   "source": [
    "df_train_test=df.select('features','charges')"
   ]
  },
  {
   "cell_type": "code",
   "execution_count": 18,
   "id": "8222d2eb",
   "metadata": {},
   "outputs": [
    {
     "name": "stdout",
     "output_type": "stream",
     "text": [
      "+--------------------+---------+\n",
      "|            features|  charges|\n",
      "+--------------------+---------+\n",
      "|[19.0,1.0,1.0,2.0...|16884.924|\n",
      "|[18.0,0.0,0.0,0.0...|1725.5522|\n",
      "|[28.0,0.0,0.0,0.0...| 4449.462|\n",
      "|[33.0,0.0,0.0,1.0...| 21984.47|\n",
      "|[32.0,0.0,0.0,1.0...|3866.8552|\n",
      "|[31.0,1.0,0.0,0.0...|3756.6216|\n",
      "|[46.0,1.0,0.0,0.0...|  8240.59|\n",
      "|[37.0,1.0,0.0,1.0...|7281.5054|\n",
      "|[37.0,0.0,0.0,3.0...|6406.4106|\n",
      "|[60.0,1.0,0.0,1.0...|28923.137|\n",
      "|[25.0,0.0,0.0,3.0...|2721.3208|\n",
      "|[62.0,1.0,1.0,0.0...|27808.725|\n",
      "|[23.0,0.0,0.0,2.0...| 1826.843|\n",
      "|[56.0,1.0,0.0,0.0...|11090.718|\n",
      "|[27.0,0.0,1.0,0.0...|39611.758|\n",
      "|[19.0,0.0,0.0,2.0...| 1837.237|\n",
      "|[52.0,1.0,0.0,3.0...|10797.336|\n",
      "|[23.0,0.0,0.0,3.0...|2395.1716|\n",
      "|[56.0,0.0,0.0,2.0...|10602.385|\n",
      "|[30.0,0.0,1.0,2.0...| 36837.47|\n",
      "+--------------------+---------+\n",
      "only showing top 20 rows\n",
      "\n"
     ]
    }
   ],
   "source": [
    "df_train_test.show()"
   ]
  },
  {
   "cell_type": "markdown",
   "id": "8e239bf5",
   "metadata": {},
   "source": [
    "# Apply Linear Regression Model"
   ]
  },
  {
   "cell_type": "code",
   "execution_count": 19,
   "id": "36663bee",
   "metadata": {},
   "outputs": [],
   "source": [
    "trainDF,testDF=df_train_test.randomSplit([0.75,0.25],seed=1)"
   ]
  },
  {
   "cell_type": "code",
   "execution_count": 20,
   "id": "4aa112f2",
   "metadata": {},
   "outputs": [],
   "source": [
    "#Fit with linear regression model:\n",
    "from pyspark.ml.regression import LinearRegression\n",
    "model = LinearRegression(featuresCol=\"features\", labelCol=\"charges\")\n",
    "\n",
    "model=model.fit(trainDF)"
   ]
  },
  {
   "cell_type": "code",
   "execution_count": 21,
   "id": "915f69bc",
   "metadata": {},
   "outputs": [
    {
     "name": "stdout",
     "output_type": "stream",
     "text": [
      "Intercept: -12933.53721254052\n",
      "coefficients: [263.3564543635745,138.2266898655472,23858.28030855387,228.46071778086855,326.65359525055726,462.00866249739636]\n"
     ]
    }
   ],
   "source": [
    "print(\"Intercept:\", model.intercept)\n",
    "print(\"coefficients:\",model.coefficients)"
   ]
  },
  {
   "cell_type": "code",
   "execution_count": 22,
   "id": "13fc80f9",
   "metadata": {},
   "outputs": [
    {
     "name": "stdout",
     "output_type": "stream",
     "text": [
      "RMSE: 6042.776640\n",
      "r2: 0.749401\n"
     ]
    }
   ],
   "source": [
    "trainingSummary = model.summary\n",
    "print(\"RMSE: %f\" % trainingSummary.rootMeanSquaredError)\n",
    "print(\"r2: %f\" % trainingSummary.r2)"
   ]
  },
  {
   "cell_type": "markdown",
   "id": "039acb17",
   "metadata": {},
   "source": [
    "# Test the data"
   ]
  },
  {
   "cell_type": "code",
   "execution_count": 23,
   "id": "99ac094b",
   "metadata": {},
   "outputs": [
    {
     "name": "stdout",
     "output_type": "stream",
     "text": [
      "+------------------+---------+--------------------+\n",
      "|        prediction|  charges|            features|\n",
      "+------------------+---------+--------------------+\n",
      "| 2945.766065613994| 1137.011|(6,[0,4],[18.0,34...|\n",
      "| 4202.950169599779|1532.4697|(6,[0,4],[21.0,35...|\n",
      "|4634.1328156437485|1534.3044|(6,[0,4],[21.0,36...|\n",
      "|1627.6873298264618|1664.9996|(6,[0,4],[22.0,26...|\n",
      "|1783.2481226790442|1815.8759|(6,[0,4],[23.0,26...|\n",
      "+------------------+---------+--------------------+\n",
      "only showing top 5 rows\n",
      "\n"
     ]
    }
   ],
   "source": [
    "pred=model.transform(testDF)\n",
    "pred.select(\"prediction\",\"charges\",\"features\").show(5)"
   ]
  },
  {
   "cell_type": "markdown",
   "id": "ebe64981",
   "metadata": {},
   "source": [
    "# Evaluate Regression model"
   ]
  },
  {
   "cell_type": "code",
   "execution_count": 24,
   "id": "a5e45bfd",
   "metadata": {},
   "outputs": [
    {
     "name": "stdout",
     "output_type": "stream",
     "text": [
      "R2 on test:  0.7522498835090992\n"
     ]
    }
   ],
   "source": [
    "from pyspark.ml.evaluation import RegressionEvaluator\n",
    "evaluator = RegressionEvaluator(predictionCol=\"prediction\", labelCol=\"charges\",metricName=\"r2\")\n",
    "print(\"R2 on test: \",evaluator.evaluate(pred))"
   ]
  },
  {
   "cell_type": "markdown",
   "id": "f587b64f",
   "metadata": {},
   "source": [
    "# Statistic Idea, unsupervised maybe LDA? KNN, Bisection Kmeans,"
   ]
  },
  {
   "cell_type": "markdown",
   "id": "cf8f524c",
   "metadata": {},
   "source": [
    "# Cross evaluation"
   ]
  },
  {
   "cell_type": "code",
   "execution_count": null,
   "id": "61134117",
   "metadata": {},
   "outputs": [],
   "source": []
  }
 ],
 "metadata": {
  "kernelspec": {
   "display_name": "Python 3 (ipykernel)",
   "language": "python",
   "name": "python3"
  },
  "language_info": {
   "codemirror_mode": {
    "name": "ipython",
    "version": 3
   },
   "file_extension": ".py",
   "mimetype": "text/x-python",
   "name": "python",
   "nbconvert_exporter": "python",
   "pygments_lexer": "ipython3",
   "version": "3.9.13"
  }
 },
 "nbformat": 4,
 "nbformat_minor": 5
}
