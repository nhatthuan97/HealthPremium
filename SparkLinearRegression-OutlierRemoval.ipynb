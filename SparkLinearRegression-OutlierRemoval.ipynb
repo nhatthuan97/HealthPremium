{
 "cells": [
  {
   "cell_type": "markdown",
   "id": "2f3caa02",
   "metadata": {},
   "source": [
    "# Import Data and convert appropriate column to float"
   ]
  },
  {
   "cell_type": "code",
   "execution_count": 1,
   "id": "84140371",
   "metadata": {
    "scrolled": true
   },
   "outputs": [],
   "source": [
    "import findspark\n",
    "findspark.init()\n",
    "findspark.find()\n",
    "\n",
    "from pyspark.sql import SparkSession\n",
    "\n",
    "spark = SparkSession.builder.appName('ThuanSession').getOrCreate()"
   ]
  },
  {
   "cell_type": "code",
   "execution_count": 2,
   "id": "807cb59a",
   "metadata": {
    "scrolled": true
   },
   "outputs": [],
   "source": [
    "df= spark.read.option(\"header\",True).csv(\"insurance.csv\")"
   ]
  },
  {
   "cell_type": "code",
   "execution_count": 3,
   "id": "5fb217ea",
   "metadata": {
    "scrolled": true
   },
   "outputs": [
    {
     "name": "stdout",
     "output_type": "stream",
     "text": [
      "+---+------+------+--------+------+---------+-----------+\n",
      "|age|   sex|   bmi|children|smoker|   region|    charges|\n",
      "+---+------+------+--------+------+---------+-----------+\n",
      "| 19|female|  27.9|       0|   yes|southwest|  16884.924|\n",
      "| 18|  male| 33.77|       1|    no|southeast|  1725.5523|\n",
      "| 28|  male|    33|       3|    no|southeast|   4449.462|\n",
      "| 33|  male|22.705|       0|    no|northwest|21984.47061|\n",
      "| 32|  male| 28.88|       0|    no|northwest|  3866.8552|\n",
      "| 31|female| 25.74|       0|    no|southeast|  3756.6216|\n",
      "| 46|female| 33.44|       1|    no|southeast|  8240.5896|\n",
      "| 37|female| 27.74|       3|    no|northwest|  7281.5056|\n",
      "| 37|  male| 29.83|       2|    no|northeast|  6406.4107|\n",
      "| 60|female| 25.84|       0|    no|northwest|28923.13692|\n",
      "| 25|  male| 26.22|       0|    no|northeast|  2721.3208|\n",
      "| 62|female| 26.29|       0|   yes|southeast| 27808.7251|\n",
      "| 23|  male|  34.4|       0|    no|southwest|   1826.843|\n",
      "| 56|female| 39.82|       0|    no|southeast| 11090.7178|\n",
      "| 27|  male| 42.13|       0|   yes|southeast| 39611.7577|\n",
      "| 19|  male|  24.6|       1|    no|southwest|   1837.237|\n",
      "| 52|female| 30.78|       1|    no|northeast| 10797.3362|\n",
      "| 23|  male|23.845|       0|    no|northeast| 2395.17155|\n",
      "| 56|  male|  40.3|       0|    no|southwest|  10602.385|\n",
      "| 30|  male|  35.3|       0|   yes|southwest|  36837.467|\n",
      "+---+------+------+--------+------+---------+-----------+\n",
      "only showing top 20 rows\n",
      "\n"
     ]
    }
   ],
   "source": [
    "df.show()"
   ]
  },
  {
   "cell_type": "code",
   "execution_count": 4,
   "id": "21c34d73",
   "metadata": {
    "scrolled": true
   },
   "outputs": [
    {
     "name": "stdout",
     "output_type": "stream",
     "text": [
      "root\n",
      " |-- age: string (nullable = true)\n",
      " |-- sex: string (nullable = true)\n",
      " |-- bmi: string (nullable = true)\n",
      " |-- children: string (nullable = true)\n",
      " |-- smoker: string (nullable = true)\n",
      " |-- region: string (nullable = true)\n",
      " |-- charges: string (nullable = true)\n",
      "\n"
     ]
    }
   ],
   "source": [
    "df.printSchema()"
   ]
  },
  {
   "cell_type": "code",
   "execution_count": 5,
   "id": "cace496e",
   "metadata": {
    "scrolled": true
   },
   "outputs": [],
   "source": [
    "df=df.withColumn('age',df['age'].cast(\"float\").alias('age'))\n",
    "df=df.withColumn('bmi',df['bmi'].cast(\"float\").alias('bmi'))\n",
    "df=df.withColumn('children',df['children'].cast(\"float\").alias('children'))\n",
    "df=df.withColumn('charges',df['charges'].cast(\"float\").alias('charges'))"
   ]
  },
  {
   "cell_type": "code",
   "execution_count": 6,
   "id": "55c92a57",
   "metadata": {
    "scrolled": true
   },
   "outputs": [
    {
     "name": "stdout",
     "output_type": "stream",
     "text": [
      "root\n",
      " |-- age: float (nullable = true)\n",
      " |-- sex: string (nullable = true)\n",
      " |-- bmi: float (nullable = true)\n",
      " |-- children: float (nullable = true)\n",
      " |-- smoker: string (nullable = true)\n",
      " |-- region: string (nullable = true)\n",
      " |-- charges: float (nullable = true)\n",
      "\n"
     ]
    }
   ],
   "source": [
    "df.printSchema()"
   ]
  },
  {
   "cell_type": "markdown",
   "id": "28bf120e",
   "metadata": {},
   "source": [
    "# Data summary of numeric column"
   ]
  },
  {
   "cell_type": "code",
   "execution_count": 7,
   "id": "942a332f",
   "metadata": {
    "scrolled": false
   },
   "outputs": [
    {
     "name": "stdout",
     "output_type": "stream",
     "text": [
      "+-------+------------------+-----------------+-----------------+------------------+\n",
      "|summary|               age|              bmi|         children|           charges|\n",
      "+-------+------------------+-----------------+-----------------+------------------+\n",
      "|  count|              1338|             1338|             1338|              1338|\n",
      "|   mean| 39.20702541106129|30.66339685599722|  1.0949177877429|13270.422259640089|\n",
      "| stddev|14.049960379216147|6.098186944544972|1.205492739781914|12110.011235594102|\n",
      "|    min|              18.0|            15.96|              0.0|         1121.8739|\n",
      "|    max|              64.0|            53.13|              5.0|          63770.43|\n",
      "+-------+------------------+-----------------+-----------------+------------------+\n",
      "\n"
     ]
    }
   ],
   "source": [
    "df.describe(['age','bmi','children','charges']).show()"
   ]
  },
  {
   "cell_type": "code",
   "execution_count": 8,
   "id": "1de3d85f",
   "metadata": {
    "scrolled": false
   },
   "outputs": [
    {
     "name": "stdout",
     "output_type": "stream",
     "text": [
      "+----------+-----+\n",
      "|Sex_Smoker|count|\n",
      "+----------+-----+\n",
      "|   male no|  517|\n",
      "|  male yes|  159|\n",
      "|female yes|  115|\n",
      "| female no|  547|\n",
      "+----------+-----+\n",
      "\n"
     ]
    }
   ],
   "source": [
    "from pyspark.sql.functions import concat_ws,col\n",
    "dfPlot = df.groupBy([\"sex\",\"smoker\"]).count()\n",
    "dfPlot=dfPlot.select(concat_ws(' ',df.sex,df.smoker).alias(\"Sex_Smoker\"),\"count\")\n",
    "dfPlot.show()"
   ]
  },
  {
   "cell_type": "code",
   "execution_count": 9,
   "id": "70b8a8a5",
   "metadata": {
    "scrolled": true
   },
   "outputs": [],
   "source": [
    "import matplotlib.pyplot as plt\n",
    "rows=dfPlot.toPandas()[\"Sex_Smoker\"].values.tolist()\n",
    "cols=dfPlot.toPandas()[\"count\"].values.tolist()"
   ]
  },
  {
   "cell_type": "code",
   "execution_count": 10,
   "id": "49d6e922",
   "metadata": {
    "scrolled": true
   },
   "outputs": [
    {
     "data": {
      "text/plain": [
       "Text(0.5, 1.0, 'Distribution of Smoker in data set')"
      ]
     },
     "execution_count": 10,
     "metadata": {},
     "output_type": "execute_result"
    },
    {
     "data": {
      "image/png": "[encoded data removed]",
      "text/plain": [
       "<Figure size 640x480 with 1 Axes>"
      ]
     },
     "metadata": {},
     "output_type": "display_data"
    }
   ],
   "source": [
    "plt.bar(rows,cols)\n",
    "plt.title(\"Distribution of Smoker in data set\")"
   ]
  },
  {
   "cell_type": "markdown",
   "id": "fcfe407a",
   "metadata": {},
   "source": [
    "# Apply Label encoder to sex, smoker, region\n",
    "- In this case:\n",
    "    + Sex: male=0 female=1\n",
    "    + smokerLabel: yes=1, no=0\n",
    "- Region really should be one-hot encoded"
   ]
  },
  {
   "cell_type": "code",
   "execution_count": 11,
   "id": "17913ea8",
   "metadata": {
    "scrolled": true
   },
   "outputs": [
    {
     "name": "stdout",
     "output_type": "stream",
     "text": [
      "+----+------+------+--------+------+---------+---------+--------+-----------+-----------+\n",
      "| age|   sex|   bmi|children|smoker|   region|  charges|sexLabel|smokerLabel|regionLabel|\n",
      "+----+------+------+--------+------+---------+---------+--------+-----------+-----------+\n",
      "|19.0|female|  27.9|     0.0|   yes|southwest|16884.924|     1.0|        1.0|        2.0|\n",
      "|18.0|  male| 33.77|     1.0|    no|southeast|1725.5522|     0.0|        0.0|        0.0|\n",
      "|28.0|  male|  33.0|     3.0|    no|southeast| 4449.462|     0.0|        0.0|        0.0|\n",
      "|33.0|  male|22.705|     0.0|    no|northwest| 21984.47|     0.0|        0.0|        1.0|\n",
      "|32.0|  male| 28.88|     0.0|    no|northwest|3866.8552|     0.0|        0.0|        1.0|\n",
      "|31.0|female| 25.74|     0.0|    no|southeast|3756.6216|     1.0|        0.0|        0.0|\n",
      "|46.0|female| 33.44|     1.0|    no|southeast|  8240.59|     1.0|        0.0|        0.0|\n",
      "|37.0|female| 27.74|     3.0|    no|northwest|7281.5054|     1.0|        0.0|        1.0|\n",
      "|37.0|  male| 29.83|     2.0|    no|northeast|6406.4106|     0.0|        0.0|        3.0|\n",
      "|60.0|female| 25.84|     0.0|    no|northwest|28923.137|     1.0|        0.0|        1.0|\n",
      "|25.0|  male| 26.22|     0.0|    no|northeast|2721.3208|     0.0|        0.0|        3.0|\n",
      "|62.0|female| 26.29|     0.0|   yes|southeast|27808.725|     1.0|        1.0|        0.0|\n",
      "|23.0|  male|  34.4|     0.0|    no|southwest| 1826.843|     0.0|        0.0|        2.0|\n",
      "|56.0|female| 39.82|     0.0|    no|southeast|11090.718|     1.0|        0.0|        0.0|\n",
      "|27.0|  male| 42.13|     0.0|   yes|southeast|39611.758|     0.0|        1.0|        0.0|\n",
      "|19.0|  male|  24.6|     1.0|    no|southwest| 1837.237|     0.0|        0.0|        2.0|\n",
      "|52.0|female| 30.78|     1.0|    no|northeast|10797.336|     1.0|        0.0|        3.0|\n",
      "|23.0|  male|23.845|     0.0|    no|northeast|2395.1716|     0.0|        0.0|        3.0|\n",
      "|56.0|  male|  40.3|     0.0|    no|southwest|10602.385|     0.0|        0.0|        2.0|\n",
      "|30.0|  male|  35.3|     0.0|   yes|southwest| 36837.47|     0.0|        1.0|        2.0|\n",
      "+----+------+------+--------+------+---------+---------+--------+-----------+-----------+\n",
      "only showing top 20 rows\n",
      "\n"
     ]
    }
   ],
   "source": [
    "from pyspark.ml.feature import StringIndexer\n",
    "\n",
    "for col in ['sex','smoker','region']:\n",
    "    Label_encoder=StringIndexer(inputCol=col,outputCol=col+\"Label\")\n",
    "    df=Label_encoder.fit(df).transform(df)\n",
    "\n",
    "df.show()"
   ]
  },
  {
   "cell_type": "code",
   "execution_count": 12,
   "id": "790fb952",
   "metadata": {
    "scrolled": true
   },
   "outputs": [
    {
     "data": {
      "text/plain": [
       "[Row(regionLabel=0.0),\n",
       " Row(regionLabel=1.0),\n",
       " Row(regionLabel=3.0),\n",
       " Row(regionLabel=2.0)]"
      ]
     },
     "execution_count": 12,
     "metadata": {},
     "output_type": "execute_result"
    }
   ],
   "source": [
    "df.select('regionLabel').distinct().collect()"
   ]
  },
  {
   "cell_type": "code",
   "execution_count": 13,
   "id": "4e344638",
   "metadata": {
    "scrolled": true
   },
   "outputs": [
    {
     "data": {
      "text/plain": [
       "[Row(region='northwest'),\n",
       " Row(region='southeast'),\n",
       " Row(region='northeast'),\n",
       " Row(region='southwest')]"
      ]
     },
     "execution_count": 13,
     "metadata": {},
     "output_type": "execute_result"
    }
   ],
   "source": [
    "df.select('region').distinct().collect()"
   ]
  },
  {
   "cell_type": "markdown",
   "id": "8e82a039",
   "metadata": {},
   "source": [
    "# Create BoxPlot to explore the outlier for the charges"
   ]
  },
  {
   "cell_type": "code",
   "execution_count": 14,
   "id": "ddd26f42",
   "metadata": {},
   "outputs": [],
   "source": [
    "df_pandas=df.toPandas()"
   ]
  },
  {
   "cell_type": "code",
   "execution_count": 15,
   "id": "3f0040b1",
   "metadata": {},
   "outputs": [
    {
     "data": {
      "image/png": "[encoded data removed]",
      "text/plain": [
       "<Figure size 640x480 with 1 Axes>"
      ]
     },
     "metadata": {},
     "output_type": "display_data"
    }
   ],
   "source": [
    "df_pandas.boxplot(column=['charges'],vert=False)\n",
    "plt.show()"
   ]
  },
  {
   "cell_type": "code",
   "execution_count": 16,
   "id": "202477df",
   "metadata": {},
   "outputs": [],
   "source": [
    "def outlier(df,feature):\n",
    "    Q1=df[feature].quantile(0.25)\n",
    "    Q3=df[feature].quantile(0.75)\n",
    "    IQR = Q3-Q1\n",
    "    \n",
    "    lower_bound=Q1 - 1.5 *IQR\n",
    "    upper_bound = Q3+1.5*IQR\n",
    "    \n",
    "    outlier_list=df.index[(df[feature]<lower_bound) | (df[feature]>upper_bound)]\n",
    "    \n",
    "    return (outlier_list,lower_bound,upper_bound)"
   ]
  },
  {
   "cell_type": "code",
   "execution_count": 17,
   "id": "3d121773",
   "metadata": {},
   "outputs": [
    {
     "name": "stdout",
     "output_type": "stream",
     "text": [
      "There are 139 outliers out of 1338 which is 10.388639760837071%\n"
     ]
    }
   ],
   "source": [
    "temp=outlier(df_pandas,'charges')\n",
    "charges_outlier_index=temp[0]\n",
    "upper_bound=temp[2]\n",
    "lower_bound=temp[1]\n",
    "print(\"There are\",len(charges_outlier_index),\"outliers out of\", len(df_pandas.index),f'which is {len(charges_outlier_index)/len(df_pandas.index)*100}%')"
   ]
  },
  {
   "cell_type": "code",
   "execution_count": 18,
   "id": "cf20da71",
   "metadata": {},
   "outputs": [],
   "source": [
    "#Outlier removal steps\n",
    "df_pandas=df_pandas.drop(charges_outlier_index)"
   ]
  },
  {
   "cell_type": "code",
   "execution_count": 19,
   "id": "c62ab764",
   "metadata": {},
   "outputs": [
    {
     "data": {
      "text/html": [
       "<div>\n",
       "<style scoped>\n",
       "    .dataframe tbody tr th:only-of-type {\n",
       "        vertical-align: middle;\n",
       "    }\n",
       "\n",
       "    .dataframe tbody tr th {\n",
       "        vertical-align: top;\n",
       "    }\n",
       "\n",
       "    .dataframe thead th {\n",
       "        text-align: right;\n",
       "    }\n",
       "</style>\n",
       "<table border=\"1\" class=\"dataframe\">\n",
       "  <thead>\n",
       "    <tr style=\"text-align: right;\">\n",
       "      <th></th>\n",
       "      <th>age</th>\n",
       "      <th>bmi</th>\n",
       "      <th>children</th>\n",
       "      <th>charges</th>\n",
       "      <th>sexLabel</th>\n",
       "      <th>smokerLabel</th>\n",
       "      <th>regionLabel</th>\n",
       "    </tr>\n",
       "  </thead>\n",
       "  <tbody>\n",
       "    <tr>\n",
       "      <th>count</th>\n",
       "      <td>1199.000000</td>\n",
       "      <td>1199.000000</td>\n",
       "      <td>1199.000000</td>\n",
       "      <td>1199.000000</td>\n",
       "      <td>1199.000000</td>\n",
       "      <td>1199.000000</td>\n",
       "      <td>1199.000000</td>\n",
       "    </tr>\n",
       "    <tr>\n",
       "      <th>mean</th>\n",
       "      <td>38.989990</td>\n",
       "      <td>30.095196</td>\n",
       "      <td>1.084237</td>\n",
       "      <td>9927.747070</td>\n",
       "      <td>0.510425</td>\n",
       "      <td>0.115096</td>\n",
       "      <td>1.480400</td>\n",
       "    </tr>\n",
       "    <tr>\n",
       "      <th>std</th>\n",
       "      <td>14.068043</td>\n",
       "      <td>6.010550</td>\n",
       "      <td>1.214303</td>\n",
       "      <td>7241.158691</td>\n",
       "      <td>0.500100</td>\n",
       "      <td>0.319271</td>\n",
       "      <td>1.120938</td>\n",
       "    </tr>\n",
       "    <tr>\n",
       "      <th>min</th>\n",
       "      <td>18.000000</td>\n",
       "      <td>15.960000</td>\n",
       "      <td>0.000000</td>\n",
       "      <td>1121.873901</td>\n",
       "      <td>0.000000</td>\n",
       "      <td>0.000000</td>\n",
       "      <td>0.000000</td>\n",
       "    </tr>\n",
       "    <tr>\n",
       "      <th>25%</th>\n",
       "      <td>26.000000</td>\n",
       "      <td>25.799999</td>\n",
       "      <td>0.000000</td>\n",
       "      <td>4408.695801</td>\n",
       "      <td>0.000000</td>\n",
       "      <td>0.000000</td>\n",
       "      <td>0.000000</td>\n",
       "    </tr>\n",
       "    <tr>\n",
       "      <th>50%</th>\n",
       "      <td>39.000000</td>\n",
       "      <td>29.735001</td>\n",
       "      <td>1.000000</td>\n",
       "      <td>8410.046875</td>\n",
       "      <td>1.000000</td>\n",
       "      <td>0.000000</td>\n",
       "      <td>1.000000</td>\n",
       "    </tr>\n",
       "    <tr>\n",
       "      <th>75%</th>\n",
       "      <td>51.000000</td>\n",
       "      <td>33.820000</td>\n",
       "      <td>2.000000</td>\n",
       "      <td>12953.594727</td>\n",
       "      <td>1.000000</td>\n",
       "      <td>0.000000</td>\n",
       "      <td>2.000000</td>\n",
       "    </tr>\n",
       "    <tr>\n",
       "      <th>max</th>\n",
       "      <td>64.000000</td>\n",
       "      <td>53.130001</td>\n",
       "      <td>5.000000</td>\n",
       "      <td>34472.839844</td>\n",
       "      <td>1.000000</td>\n",
       "      <td>1.000000</td>\n",
       "      <td>3.000000</td>\n",
       "    </tr>\n",
       "  </tbody>\n",
       "</table>\n",
       "</div>"
      ],
      "text/plain": [
       "               age          bmi     children       charges     sexLabel  \\\n",
       "count  1199.000000  1199.000000  1199.000000   1199.000000  1199.000000   \n",
       "mean     38.989990    30.095196     1.084237   9927.747070     0.510425   \n",
       "std      14.068043     6.010550     1.214303   7241.158691     0.500100   \n",
       "min      18.000000    15.960000     0.000000   1121.873901     0.000000   \n",
       "25%      26.000000    25.799999     0.000000   4408.695801     0.000000   \n",
       "50%      39.000000    29.735001     1.000000   8410.046875     1.000000   \n",
       "75%      51.000000    33.820000     2.000000  12953.594727     1.000000   \n",
       "max      64.000000    53.130001     5.000000  34472.839844     1.000000   \n",
       "\n",
       "       smokerLabel  regionLabel  \n",
       "count  1199.000000  1199.000000  \n",
       "mean      0.115096     1.480400  \n",
       "std       0.319271     1.120938  \n",
       "min       0.000000     0.000000  \n",
       "25%       0.000000     0.000000  \n",
       "50%       0.000000     1.000000  \n",
       "75%       0.000000     2.000000  \n",
       "max       1.000000     3.000000  "
      ]
     },
     "execution_count": 19,
     "metadata": {},
     "output_type": "execute_result"
    }
   ],
   "source": [
    "df_pandas.describe()"
   ]
  },
  {
   "cell_type": "code",
   "execution_count": 20,
   "id": "975e16aa",
   "metadata": {},
   "outputs": [],
   "source": [
    "df = df.filter((df.charges<upper_bound) & (df.charges>lower_bound))"
   ]
  },
  {
   "cell_type": "code",
   "execution_count": 21,
   "id": "91284ce8",
   "metadata": {},
   "outputs": [
    {
     "name": "stdout",
     "output_type": "stream",
     "text": [
      "+-------+------------------+------------------+------------------+-----------------+\n",
      "|summary|               age|               bmi|          children|          charges|\n",
      "+-------+------------------+------------------+------------------+-----------------+\n",
      "|  count|              1199|              1199|              1199|             1199|\n",
      "|   mean| 38.98999165971643|30.095200153665804|1.0842368640533777|9927.753397199489|\n",
      "| stddev|14.068040002043485|   6.0105513761724|1.2143040343155822| 7241.15829369412|\n",
      "|    min|              18.0|             15.96|               0.0|        1121.8739|\n",
      "|    max|              64.0|             53.13|               5.0|         34472.84|\n",
      "+-------+------------------+------------------+------------------+-----------------+\n",
      "\n"
     ]
    }
   ],
   "source": [
    "df.describe(['age','bmi','children','charges']).show()"
   ]
  },
  {
   "cell_type": "markdown",
   "id": "1d38945f",
   "metadata": {},
   "source": [
    "# Create feature columns to get ready for linear regression:"
   ]
  },
  {
   "cell_type": "code",
   "execution_count": 22,
   "id": "8ad80df2",
   "metadata": {
    "scrolled": true
   },
   "outputs": [],
   "source": [
    "from pyspark.ml.regression import LinearRegression\n",
    "from pyspark.ml.linalg import Vectors\n",
    "from pyspark.ml.feature import VectorAssembler\n",
    "\n",
    "Assembler = VectorAssembler(inputCols=['age','sexLabel','smokerLabel','regionLabel',\n",
    "                                       'bmi','children'],\n",
    "                           outputCol='features')\n",
    "df=Assembler.transform(df)"
   ]
  },
  {
   "cell_type": "code",
   "execution_count": 23,
   "id": "1cdbd70a",
   "metadata": {
    "scrolled": true
   },
   "outputs": [],
   "source": [
    "df_train_test=df.select('features','charges')"
   ]
  },
  {
   "cell_type": "code",
   "execution_count": 24,
   "id": "8222d2eb",
   "metadata": {
    "scrolled": true
   },
   "outputs": [
    {
     "name": "stdout",
     "output_type": "stream",
     "text": [
      "+--------------------+---------+\n",
      "|            features|  charges|\n",
      "+--------------------+---------+\n",
      "|[19.0,1.0,1.0,2.0...|16884.924|\n",
      "|[18.0,0.0,0.0,0.0...|1725.5522|\n",
      "|[28.0,0.0,0.0,0.0...| 4449.462|\n",
      "|[33.0,0.0,0.0,1.0...| 21984.47|\n",
      "|[32.0,0.0,0.0,1.0...|3866.8552|\n",
      "|[31.0,1.0,0.0,0.0...|3756.6216|\n",
      "|[46.0,1.0,0.0,0.0...|  8240.59|\n",
      "|[37.0,1.0,0.0,1.0...|7281.5054|\n",
      "|[37.0,0.0,0.0,3.0...|6406.4106|\n",
      "|[60.0,1.0,0.0,1.0...|28923.137|\n",
      "|[25.0,0.0,0.0,3.0...|2721.3208|\n",
      "|[62.0,1.0,1.0,0.0...|27808.725|\n",
      "|[23.0,0.0,0.0,2.0...| 1826.843|\n",
      "|[56.0,1.0,0.0,0.0...|11090.718|\n",
      "|[19.0,0.0,0.0,2.0...| 1837.237|\n",
      "|[52.0,1.0,0.0,3.0...|10797.336|\n",
      "|[23.0,0.0,0.0,3.0...|2395.1716|\n",
      "|[56.0,0.0,0.0,2.0...|10602.385|\n",
      "|[60.0,1.0,0.0,3.0...|13228.847|\n",
      "|[30.0,1.0,0.0,2.0...| 4149.736|\n",
      "+--------------------+---------+\n",
      "only showing top 20 rows\n",
      "\n"
     ]
    }
   ],
   "source": [
    "df_train_test.show()"
   ]
  },
  {
   "cell_type": "code",
   "execution_count": 25,
   "id": "c06b34f4",
   "metadata": {
    "scrolled": true
   },
   "outputs": [],
   "source": [
    "model_list=[]"
   ]
  },
  {
   "cell_type": "code",
   "execution_count": 26,
   "id": "48394487",
   "metadata": {
    "scrolled": true
   },
   "outputs": [
    {
     "name": "stdout",
     "output_type": "stream",
     "text": [
      "linear 0 5.107064999999999\n",
      "decision tree 0 8.8794258\n",
      "random forest 0 12.049320000000002\n",
      "GB tree 0 26.9837475\n",
      "linear 1 3.6341713999999996\n",
      "decision tree 1 6.064451900000009\n",
      "random forest 1 8.776891200000009\n",
      "GB tree 1 22.824912600000005\n",
      "linear 2 3.403546900000009\n",
      "decision tree 2 5.787112900000011\n",
      "random forest 2 8.426983100000001\n",
      "GB tree 2 21.741933200000005\n",
      "linear 3 3.4663519000000065\n",
      "decision tree 3 6.0099479\n",
      "random forest 3 8.666240200000004\n",
      "GB tree 3 21.899393800000013\n",
      "linear 4 3.02915329999999\n",
      "decision tree 4 5.7477778999999884\n",
      "random forest 4 8.593260100000009\n",
      "GB tree 4 21.81744119999999\n",
      "linear 5 3.4417239999999936\n",
      "decision tree 5 5.996488299999982\n",
      "random forest 5 9.57047159999999\n",
      "GB tree 5 22.760695499999997\n",
      "linear 6 2.9973124999999925\n",
      "decision tree 6 5.221927699999981\n",
      "random forest 6 8.3085418\n",
      "GB tree 6 21.875145299999986\n",
      "linear 7 3.0921414999999968\n",
      "decision tree 7 5.4312016000000085\n",
      "random forest 7 8.17362940000001\n",
      "GB tree 7 21.492499400000014\n",
      "linear 8 3.4626587999999856\n",
      "decision tree 8 5.755256199999991\n",
      "random forest 8 8.517717399999981\n",
      "GB tree 8 21.682689299999993\n",
      "linear 9 3.3872080000000153\n",
      "decision tree 9 5.793477300000006\n",
      "random forest 9 8.468991400000021\n",
      "GB tree 9 21.609082900000004\n"
     ]
    }
   ],
   "source": [
    "from pyspark.ml.regression import LinearRegression\n",
    "from pyspark.ml.regression import DecisionTreeRegressor\n",
    "from pyspark.ml.regression import RandomForestRegressor\n",
    "from pyspark.ml.regression import GBTRegressor\n",
    "import pandas as pd\n",
    "from pyspark.ml.evaluation import RegressionEvaluator\n",
    "from pyspark.sql.functions import rand \n",
    "import timeit\n",
    "\n",
    "folds=10\n",
    "\n",
    "performance_metrics=[('r2','Regression through the origin')]\n",
    "\n",
    "columns_name=['Name','Itteration']\n",
    "for p_metrics in performance_metrics:\n",
    "    columns_name.append(p_metrics[0])\n",
    "\n",
    "performance_df = pd.DataFrame(columns = columns_name)\n",
    "model_list=[]\n",
    "#Fit with linear regression model:\n",
    "linear_reg = LinearRegression(featuresCol=\"features\", labelCol=\"charges\")\n",
    "model_list.append(('linear',linear_reg))\n",
    "\n",
    "# Apply Decision Tree Regression\n",
    "decision_tree=DecisionTreeRegressor(featuresCol=\"features\", labelCol=\"charges\")\n",
    "model_list.append(('decision tree',decision_tree))\n",
    "\n",
    "\n",
    "# Apply Random Forest Regression\n",
    "random_forest=RandomForestRegressor(featuresCol=\"features\", labelCol=\"charges\")\n",
    "model_list.append(('random forest',random_forest))\n",
    "\n",
    "# Apply Gradiant-boosted Tree Regression\n",
    "GB_tree=GBTRegressor(featuresCol=\"features\", labelCol=\"charges\")\n",
    "model_list.append(('GB tree',GB_tree))\n",
    "\n",
    "\n",
    "# Performance evaluation\n",
    "for itteration in range (folds):\n",
    "    start_time = timeit.default_timer()\n",
    "\n",
    "    \n",
    "    df_shuffle = df_train_test.orderBy(rand())\n",
    "    trainDF,testDF=df_shuffle.randomSplit([0.75,0.25])\n",
    "    for model in model_list:\n",
    "        cur_model=model[1]\n",
    "        cur_model=cur_model.fit(trainDF)\n",
    "        pred=cur_model.transform(testDF)\n",
    "        \n",
    "        temp = [model[0],itteration]\n",
    "        for p_metric in performance_metrics:\n",
    "            evaluator=RegressionEvaluator(predictionCol='prediction',labelCol='charges',metricName=p_metric[0])\n",
    "            temp.append(evaluator.evaluate(pred))\n",
    "        \n",
    "        performance_df.loc[len(performance_df.index)] = temp\n",
    "        elapsed = timeit.default_timer() - start_time\n",
    "        print(model[0],itteration,elapsed)"
   ]
  },
  {
   "cell_type": "code",
   "execution_count": 27,
   "id": "c67984ca",
   "metadata": {
    "scrolled": true
   },
   "outputs": [
    {
     "data": {
      "text/html": [
       "<div>\n",
       "<style scoped>\n",
       "    .dataframe tbody tr th:only-of-type {\n",
       "        vertical-align: middle;\n",
       "    }\n",
       "\n",
       "    .dataframe tbody tr th {\n",
       "        vertical-align: top;\n",
       "    }\n",
       "\n",
       "    .dataframe thead th {\n",
       "        text-align: right;\n",
       "    }\n",
       "</style>\n",
       "<table border=\"1\" class=\"dataframe\">\n",
       "  <thead>\n",
       "    <tr style=\"text-align: right;\">\n",
       "      <th></th>\n",
       "      <th>Name</th>\n",
       "      <th>Itteration</th>\n",
       "      <th>r2</th>\n",
       "    </tr>\n",
       "  </thead>\n",
       "  <tbody>\n",
       "    <tr>\n",
       "      <th>19</th>\n",
       "      <td>GB tree</td>\n",
       "      <td>4</td>\n",
       "      <td>0.624210</td>\n",
       "    </tr>\n",
       "    <tr>\n",
       "      <th>35</th>\n",
       "      <td>GB tree</td>\n",
       "      <td>8</td>\n",
       "      <td>0.671837</td>\n",
       "    </tr>\n",
       "    <tr>\n",
       "      <th>31</th>\n",
       "      <td>GB tree</td>\n",
       "      <td>7</td>\n",
       "      <td>0.554299</td>\n",
       "    </tr>\n",
       "    <tr>\n",
       "      <th>27</th>\n",
       "      <td>GB tree</td>\n",
       "      <td>6</td>\n",
       "      <td>0.491744</td>\n",
       "    </tr>\n",
       "    <tr>\n",
       "      <th>23</th>\n",
       "      <td>GB tree</td>\n",
       "      <td>5</td>\n",
       "      <td>0.498708</td>\n",
       "    </tr>\n",
       "    <tr>\n",
       "      <th>15</th>\n",
       "      <td>GB tree</td>\n",
       "      <td>3</td>\n",
       "      <td>0.658458</td>\n",
       "    </tr>\n",
       "    <tr>\n",
       "      <th>11</th>\n",
       "      <td>GB tree</td>\n",
       "      <td>2</td>\n",
       "      <td>0.686074</td>\n",
       "    </tr>\n",
       "    <tr>\n",
       "      <th>39</th>\n",
       "      <td>GB tree</td>\n",
       "      <td>9</td>\n",
       "      <td>0.495737</td>\n",
       "    </tr>\n",
       "    <tr>\n",
       "      <th>3</th>\n",
       "      <td>GB tree</td>\n",
       "      <td>0</td>\n",
       "      <td>0.641709</td>\n",
       "    </tr>\n",
       "    <tr>\n",
       "      <th>7</th>\n",
       "      <td>GB tree</td>\n",
       "      <td>1</td>\n",
       "      <td>0.513870</td>\n",
       "    </tr>\n",
       "    <tr>\n",
       "      <th>9</th>\n",
       "      <td>decision tree</td>\n",
       "      <td>2</td>\n",
       "      <td>0.738144</td>\n",
       "    </tr>\n",
       "    <tr>\n",
       "      <th>37</th>\n",
       "      <td>decision tree</td>\n",
       "      <td>9</td>\n",
       "      <td>0.555850</td>\n",
       "    </tr>\n",
       "    <tr>\n",
       "      <th>1</th>\n",
       "      <td>decision tree</td>\n",
       "      <td>0</td>\n",
       "      <td>0.680635</td>\n",
       "    </tr>\n",
       "    <tr>\n",
       "      <th>13</th>\n",
       "      <td>decision tree</td>\n",
       "      <td>3</td>\n",
       "      <td>0.711772</td>\n",
       "    </tr>\n",
       "    <tr>\n",
       "      <th>33</th>\n",
       "      <td>decision tree</td>\n",
       "      <td>8</td>\n",
       "      <td>0.687068</td>\n",
       "    </tr>\n",
       "    <tr>\n",
       "      <th>5</th>\n",
       "      <td>decision tree</td>\n",
       "      <td>1</td>\n",
       "      <td>0.525581</td>\n",
       "    </tr>\n",
       "    <tr>\n",
       "      <th>17</th>\n",
       "      <td>decision tree</td>\n",
       "      <td>4</td>\n",
       "      <td>0.677746</td>\n",
       "    </tr>\n",
       "    <tr>\n",
       "      <th>29</th>\n",
       "      <td>decision tree</td>\n",
       "      <td>7</td>\n",
       "      <td>0.583740</td>\n",
       "    </tr>\n",
       "    <tr>\n",
       "      <th>21</th>\n",
       "      <td>decision tree</td>\n",
       "      <td>5</td>\n",
       "      <td>0.558682</td>\n",
       "    </tr>\n",
       "    <tr>\n",
       "      <th>25</th>\n",
       "      <td>decision tree</td>\n",
       "      <td>6</td>\n",
       "      <td>0.547189</td>\n",
       "    </tr>\n",
       "    <tr>\n",
       "      <th>8</th>\n",
       "      <td>linear</td>\n",
       "      <td>2</td>\n",
       "      <td>0.700809</td>\n",
       "    </tr>\n",
       "    <tr>\n",
       "      <th>36</th>\n",
       "      <td>linear</td>\n",
       "      <td>9</td>\n",
       "      <td>0.580186</td>\n",
       "    </tr>\n",
       "    <tr>\n",
       "      <th>32</th>\n",
       "      <td>linear</td>\n",
       "      <td>8</td>\n",
       "      <td>0.628627</td>\n",
       "    </tr>\n",
       "    <tr>\n",
       "      <th>28</th>\n",
       "      <td>linear</td>\n",
       "      <td>7</td>\n",
       "      <td>0.505757</td>\n",
       "    </tr>\n",
       "    <tr>\n",
       "      <th>4</th>\n",
       "      <td>linear</td>\n",
       "      <td>1</td>\n",
       "      <td>0.494706</td>\n",
       "    </tr>\n",
       "    <tr>\n",
       "      <th>20</th>\n",
       "      <td>linear</td>\n",
       "      <td>5</td>\n",
       "      <td>0.675699</td>\n",
       "    </tr>\n",
       "    <tr>\n",
       "      <th>16</th>\n",
       "      <td>linear</td>\n",
       "      <td>4</td>\n",
       "      <td>0.633063</td>\n",
       "    </tr>\n",
       "    <tr>\n",
       "      <th>12</th>\n",
       "      <td>linear</td>\n",
       "      <td>3</td>\n",
       "      <td>0.649723</td>\n",
       "    </tr>\n",
       "    <tr>\n",
       "      <th>24</th>\n",
       "      <td>linear</td>\n",
       "      <td>6</td>\n",
       "      <td>0.517320</td>\n",
       "    </tr>\n",
       "    <tr>\n",
       "      <th>0</th>\n",
       "      <td>linear</td>\n",
       "      <td>0</td>\n",
       "      <td>0.606071</td>\n",
       "    </tr>\n",
       "    <tr>\n",
       "      <th>22</th>\n",
       "      <td>random forest</td>\n",
       "      <td>5</td>\n",
       "      <td>0.669465</td>\n",
       "    </tr>\n",
       "    <tr>\n",
       "      <th>26</th>\n",
       "      <td>random forest</td>\n",
       "      <td>6</td>\n",
       "      <td>0.563505</td>\n",
       "    </tr>\n",
       "    <tr>\n",
       "      <th>38</th>\n",
       "      <td>random forest</td>\n",
       "      <td>9</td>\n",
       "      <td>0.557560</td>\n",
       "    </tr>\n",
       "    <tr>\n",
       "      <th>18</th>\n",
       "      <td>random forest</td>\n",
       "      <td>4</td>\n",
       "      <td>0.665204</td>\n",
       "    </tr>\n",
       "    <tr>\n",
       "      <th>30</th>\n",
       "      <td>random forest</td>\n",
       "      <td>7</td>\n",
       "      <td>0.577893</td>\n",
       "    </tr>\n",
       "    <tr>\n",
       "      <th>2</th>\n",
       "      <td>random forest</td>\n",
       "      <td>0</td>\n",
       "      <td>0.665553</td>\n",
       "    </tr>\n",
       "    <tr>\n",
       "      <th>14</th>\n",
       "      <td>random forest</td>\n",
       "      <td>3</td>\n",
       "      <td>0.691193</td>\n",
       "    </tr>\n",
       "    <tr>\n",
       "      <th>34</th>\n",
       "      <td>random forest</td>\n",
       "      <td>8</td>\n",
       "      <td>0.667928</td>\n",
       "    </tr>\n",
       "    <tr>\n",
       "      <th>6</th>\n",
       "      <td>random forest</td>\n",
       "      <td>1</td>\n",
       "      <td>0.507503</td>\n",
       "    </tr>\n",
       "    <tr>\n",
       "      <th>10</th>\n",
       "      <td>random forest</td>\n",
       "      <td>2</td>\n",
       "      <td>0.706012</td>\n",
       "    </tr>\n",
       "  </tbody>\n",
       "</table>\n",
       "</div>"
      ],
      "text/plain": [
       "             Name  Itteration        r2\n",
       "19        GB tree           4  0.624210\n",
       "35        GB tree           8  0.671837\n",
       "31        GB tree           7  0.554299\n",
       "27        GB tree           6  0.491744\n",
       "23        GB tree           5  0.498708\n",
       "15        GB tree           3  0.658458\n",
       "11        GB tree           2  0.686074\n",
       "39        GB tree           9  0.495737\n",
       "3         GB tree           0  0.641709\n",
       "7         GB tree           1  0.513870\n",
       "9   decision tree           2  0.738144\n",
       "37  decision tree           9  0.555850\n",
       "1   decision tree           0  0.680635\n",
       "13  decision tree           3  0.711772\n",
       "33  decision tree           8  0.687068\n",
       "5   decision tree           1  0.525581\n",
       "17  decision tree           4  0.677746\n",
       "29  decision tree           7  0.583740\n",
       "21  decision tree           5  0.558682\n",
       "25  decision tree           6  0.547189\n",
       "8          linear           2  0.700809\n",
       "36         linear           9  0.580186\n",
       "32         linear           8  0.628627\n",
       "28         linear           7  0.505757\n",
       "4          linear           1  0.494706\n",
       "20         linear           5  0.675699\n",
       "16         linear           4  0.633063\n",
       "12         linear           3  0.649723\n",
       "24         linear           6  0.517320\n",
       "0          linear           0  0.606071\n",
       "22  random forest           5  0.669465\n",
       "26  random forest           6  0.563505\n",
       "38  random forest           9  0.557560\n",
       "18  random forest           4  0.665204\n",
       "30  random forest           7  0.577893\n",
       "2   random forest           0  0.665553\n",
       "14  random forest           3  0.691193\n",
       "34  random forest           8  0.667928\n",
       "6   random forest           1  0.507503\n",
       "10  random forest           2  0.706012"
      ]
     },
     "execution_count": 27,
     "metadata": {},
     "output_type": "execute_result"
    }
   ],
   "source": [
    "performance_df.sort_values(by='Name')"
   ]
  },
  {
   "cell_type": "code",
   "execution_count": 28,
   "id": "cf17220a",
   "metadata": {},
   "outputs": [
    {
     "ename": "NameError",
     "evalue": "name 'peformance_metric_name' is not defined",
     "output_type": "error",
     "traceback": [
      "\u001b[1;31m---------------------------------------------------------------------------\u001b[0m",
      "\u001b[1;31mNameError\u001b[0m                                 Traceback (most recent call last)",
      "\u001b[1;32m~\\AppData\\Local\\Temp\\ipykernel_10628\\9205711.py\u001b[0m in \u001b[0;36m<module>\u001b[1;34m\u001b[0m\n\u001b[1;32m----> 1\u001b[1;33m \u001b[0mavg_df\u001b[0m\u001b[1;33m=\u001b[0m\u001b[0mperformance_df\u001b[0m\u001b[1;33m.\u001b[0m\u001b[0mgroupby\u001b[0m\u001b[1;33m(\u001b[0m\u001b[1;34m'Name'\u001b[0m\u001b[1;33m,\u001b[0m\u001b[0mas_index\u001b[0m\u001b[1;33m=\u001b[0m\u001b[1;32mFalse\u001b[0m\u001b[1;33m)\u001b[0m\u001b[1;33m[\u001b[0m\u001b[0mpeformance_metric_name\u001b[0m\u001b[1;33m]\u001b[0m\u001b[1;33m.\u001b[0m\u001b[0mmean\u001b[0m\u001b[1;33m(\u001b[0m\u001b[1;33m)\u001b[0m\u001b[1;33m\u001b[0m\u001b[1;33m\u001b[0m\u001b[0m\n\u001b[0m",
      "\u001b[1;31mNameError\u001b[0m: name 'peformance_metric_name' is not defined"
     ]
    }
   ],
   "source": [
    "\n",
    "avg_df=performance_df.groupby('Name',as_index=False)[peformance_metric_name].mean()"
   ]
  },
  {
   "cell_type": "code",
   "execution_count": null,
   "id": "6955a2b9",
   "metadata": {},
   "outputs": [],
   "source": [
    "avg_df"
   ]
  },
  {
   "cell_type": "code",
   "execution_count": null,
   "id": "096637bc",
   "metadata": {
    "scrolled": false
   },
   "outputs": [],
   "source": [
    "import plotly.express as px\n",
    "for p in performance_metrics: \n",
    "    fig = px.bar(avg_df, x='Name', y=p[0],title=p[0],color='Name')\n",
    "    fig.show()\n"
   ]
  },
  {
   "cell_type": "code",
   "execution_count": null,
   "id": "6a284a97",
   "metadata": {},
   "outputs": [],
   "source": []
  }
 ],
 "metadata": {
  "kernelspec": {
   "display_name": "Python 3 (ipykernel)",
   "language": "python",
   "name": "python3"
  },
  "language_info": {
   "codemirror_mode": {
    "name": "ipython",
    "version": 3
   },
   "file_extension": ".py",
   "mimetype": "text/x-python",
   "name": "python",
   "nbconvert_exporter": "python",
   "pygments_lexer": "ipython3",
   "version": "3.9.13"
  }
 },
 "nbformat": 4,
 "nbformat_minor": 5
}
